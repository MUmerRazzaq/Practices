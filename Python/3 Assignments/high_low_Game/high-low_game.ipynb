{
 "cells": [
  {
   "cell_type": "code",
   "execution_count": 6,
   "metadata": {},
   "outputs": [],
   "source": [
    "def high_low_game():\n",
    "    import random\n",
    "    round:int=1\n",
    "    score:int=0\n",
    "    print('Welcome to the High-Low Game!\\n')\n",
    "    while round <= 5:   \n",
    "        user_number=random.randint(1,100)\n",
    "        sys_number=random.randint(1,100)\n",
    "        print(f\"Round: {round}\")\n",
    "        print(f\"Your number is {user_number}\")\n",
    "        user_guse=input(\"Do you think your number is higher or lower than the computer's?:\").lower().strip()\n",
    "        if user_guse == \"higher\" and user_number > sys_number:  \n",
    "            print(f\"You were right! The computer's number was {sys_number}\")\n",
    "            score+=1\n",
    "            print(f\"Your score is now {score}\\n\")\n",
    "        elif user_guse  == \"higher\" and user_number < sys_number:\n",
    "            print(f\"Aww, that's incorrect. The computer's number was {sys_number}\")\n",
    "            print(f\"Your score is now {score}\\n\")\n",
    "        elif user_guse == \"lower\" and  user_number < sys_number:\n",
    "            print(f\"You were right! The computer's number was {sys_number}\")\n",
    "            score+=1\n",
    "            print(f\"Your score is now {score}\\n\")\n",
    "        elif user_guse == \"lower\" and  user_number > sys_number:\n",
    "            print(f\"Aww, that's incorrect. The computer's number was {sys_number}\")\n",
    "            print(f\"Your score is now {score}\\n\")\n",
    "        else:\n",
    "            print(\"Error! Invalid Input: \\t Please Enter Only 'Higher' or 'Lower' \\n\")\n",
    "\n",
    "        round+=1\n",
    "    print(\"Thanks for playing!\")\n",
    "    print(\"Good job, you played really well!\")\n"
   ]
  },
  {
   "cell_type": "code",
   "execution_count": 5,
   "metadata": {},
   "outputs": [
    {
     "name": "stdout",
     "output_type": "stream",
     "text": [
      "Welcome to the High-Low Game!\n",
      "\n",
      "Round: 1\n",
      "Your number is 87\n",
      "You were right! The computer's number was 11\n",
      "Your score is now 1\n",
      "\n",
      "Round: 2\n",
      "Your number is 70\n",
      "You were right! The computer's number was 45\n",
      "Your score is now 2\n",
      "\n",
      "Round: 3\n",
      "Your number is 56\n",
      "Aww, that's incorrect. The computer's number was 31\n",
      "Your score is now 2\n",
      "\n",
      "Round: 4\n",
      "Your number is 16\n",
      "Error! Invalid Input: \t Please Enter Only 'Higher' or 'Lower' \n",
      "Round: 5\n",
      "Your number is 56\n",
      "Error! Invalid Input: \t Please Enter Only 'Higher' or 'Lower' \n",
      "Thanks for playing!\n",
      "Good job, you played really well!\n"
     ]
    }
   ],
   "source": [
    "high_low_game()"
   ]
  },
  {
   "cell_type": "code",
   "execution_count": null,
   "metadata": {},
   "outputs": [],
   "source": []
  }
 ],
 "metadata": {
  "kernelspec": {
   "display_name": "Python 3",
   "language": "python",
   "name": "python3"
  },
  "language_info": {
   "codemirror_mode": {
    "name": "ipython",
    "version": 3
   },
   "file_extension": ".py",
   "mimetype": "text/x-python",
   "name": "python",
   "nbconvert_exporter": "python",
   "pygments_lexer": "ipython3",
   "version": "3.12.5"
  }
 },
 "nbformat": 4,
 "nbformat_minor": 2
}
