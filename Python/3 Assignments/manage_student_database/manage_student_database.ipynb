{
 "cells": [
  {
   "cell_type": "code",
   "execution_count": 7,
   "metadata": {},
   "outputs": [],
   "source": [
    "def manage_student_database():\n",
    "    students:list=[]\n",
    "    counter:int=1\n",
    "    while True:\n",
    "        student_name=input(\"Please Enter The Name Of student You Want To Store: \\t or Enter 'stop' To Exit: \").strip()   \n",
    "        if student_name.lower() == \"stop\":\n",
    "            print(\"exiting the system\".title())\n",
    "            break\n",
    "        elif student_name==\"\" or not student_name.replace(' ', '').isalpha():\n",
    "            print(\"Error! Invalid Input: Please Enter 'stop' to Exit or Enter Name the of Student\\n Only alphabetic characters are allowed.\")\n",
    "        elif any(student_name.lower()==student[1].lower() for student in students):\n",
    "            print(\"This name is already in the list.\".title())\n",
    "        else:\n",
    "            name:tuple=(counter,student_name.title())\n",
    "            students.append(name)\n",
    "            counter+=1\n",
    "    print(f\"Complete List of Students (Tuples):\\n {students}\")\n",
    "    print(\"List of Students with IDs:\")\n",
    "    for student in students:\n",
    "        print(f\"ID:{student[0]}\\tName:{student[1]}\")\n",
    "    print(f\"Total number of students: {len(students)}\")\n",
    "    longest_name_student = max(students, key=lambda student: len(student[1]))\n",
    "    print(f\"Student with the Longest Name: {longest_name_student[1]}, Length: {len(longest_name_student[1])}\")\n",
    "    shortest_name_student = min(students, key=lambda student: len(student[1]))\n",
    "    print(f\"Student with the Shortest Name: {shortest_name_student[1]} Length: {len(shortest_name_student[1])}\")\n",
    "\n",
    "\n"
   ]
  },
  {
   "cell_type": "code",
   "execution_count": 8,
   "metadata": {},
   "outputs": [
    {
     "name": "stdout",
     "output_type": "stream",
     "text": [
      "Error! Invalid Input: Please Enter 'stop' to Exit or Enter Name the of Student\n",
      " Only alphabetic characters are allowed.\n",
      "Exiting The System\n",
      "Complete List of Students (Tuples):\n",
      " [(1, 'Umer'), (2, 'Ali')]\n",
      "List of Students with IDs:\n",
      "ID:1\tName:Umer\n",
      "ID:2\tName:Ali\n",
      "Total number of students: 2\n",
      "Student with the Longest Name: Umer, Length: 4\n",
      "Student with the Shortest Name: Ali Length: 3\n"
     ]
    }
   ],
   "source": [
    "manage_student_database()"
   ]
  }
 ],
 "metadata": {
  "kernelspec": {
   "display_name": "Python 3",
   "language": "python",
   "name": "python3"
  },
  "language_info": {
   "codemirror_mode": {
    "name": "ipython",
    "version": 3
   },
   "file_extension": ".py",
   "mimetype": "text/x-python",
   "name": "python",
   "nbconvert_exporter": "python",
   "pygments_lexer": "ipython3",
   "version": "3.12.5"
  }
 },
 "nbformat": 4,
 "nbformat_minor": 2
}
