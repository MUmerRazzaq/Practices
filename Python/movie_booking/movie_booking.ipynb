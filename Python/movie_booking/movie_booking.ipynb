{
 "cells": [
  {
   "cell_type": "code",
   "execution_count": 1,
   "metadata": {},
   "outputs": [],
   "source": [
    "# Write a program to book movie tickets. The program should first ask for the user's name,\n",
    "#  then display a list of available movies and let the user select one. After selecting a movie, \n",
    "# it should ask for the number of people attending and then collect the name and age of each person. \n",
    "# For each person, calculate the ticket price: free for those under 3, $10 for ages 3 to 12, and $15 for \n",
    "# those older than 12. Finally, display the selected movie, the name and cost of each person's ticket, \n",
    "# and the total ticket cost.\n",
    "movies:list=[\"1:The Godfather\",\"2:The Dark Knight\",'3:Inception',\"4:The Matrix\"]\n",
    "def age_calc(age):\n",
    "    try:\n",
    "        if age >\n",
    "def movies_selec(list):\n",
    "    user_name:str=input(\"Please Enter Your Name:\")\n",
    "    print(f\"Welcome! {user_name}\\n Here Is Available Movies \")\n",
    "\n",
    "    for movie in movies:\n",
    "        print(movie)\n",
    "    movive_choise=input(\"Please Enter The Number Of movie You Want To select\")\n",
    "    "
   ]
  },
  {
   "cell_type": "code",
   "execution_count": 3,
   "metadata": {},
   "outputs": [
    {
     "name": "stdout",
     "output_type": "stream",
     "text": [
      "\n",
      "Here are the available movies:\n",
      "1. Spider-Man\n",
      "2. Avatar\n",
      "3. Inception\n",
      "4. The Lion King\n",
      "\n",
      "Attendee 1:\n",
      "\n",
      "Attendee 2:\n",
      "\n",
      "Attendee 3:\n",
      "\n",
      "--- Ticket Summary ---\n",
      "Movie: The Lion King\n",
      "as (Age: 4) - Ticket Price: $10\n",
      "ew (Age: 12) - Ticket Price: $10\n",
      "dsa (Age: 3) - Ticket Price: $10\n",
      "\n",
      "Total Cost: $30\n"
     ]
    }
   ],
   "source": [
    "# Available movies list\n",
    "movies = [\"1. Spider-Man\", \"2. Avatar\", \"3. Inception\", \"4. The Lion King\"]\n",
    "\n",
    "# Function to calculate ticket price based on age\n",
    "def calculate_ticket_price(age):\n",
    "    if age < 3:\n",
    "        return 0\n",
    "    elif 3 <= age <= 12:\n",
    "        return 10\n",
    "    else:\n",
    "        return 15\n",
    "\n",
    "# Start the ticket booking process\n",
    "def book_movie_tickets():\n",
    "    # Ask for the user's name\n",
    "    user_name = input(\"Welcome to the Movie Theater! What's your name? \")\n",
    "\n",
    "    # Display available movies\n",
    "    print(\"\\nHere are the available movies:\")\n",
    "    for movie in movies:\n",
    "        print(movie)\n",
    "\n",
    "    # Let user select a movie\n",
    "    movie_choice = input(\"\\nPlease enter the number of the movie you'd like to watch: \")\n",
    "    \n",
    "    # Validate and get the selected movie\n",
    "    try:\n",
    "        selected_movie = movies[int(movie_choice) - 1][3:]  # Get the movie name without the number\n",
    "    except (IndexError, ValueError):\n",
    "        print(\"Invalid selection. Please restart the booking process.\")\n",
    "        return\n",
    "\n",
    "    # Ask for the number of people attending\n",
    "    num_people = int(input(\"\\nHow many people are attending the movie? \"))\n",
    "\n",
    "    # Collect names and ages, and calculate ticket prices\n",
    "    total_cost = 0\n",
    "    attendees = []\n",
    "\n",
    "    for i in range(num_people):\n",
    "        print(f\"\\nAttendee {i + 1}:\")\n",
    "        person_name = input(\"Enter the person's name: \")\n",
    "        age = int(input(f\"Enter {person_name}'s age: \"))\n",
    "        \n",
    "        # Calculate ticket price for this person\n",
    "        ticket_price = calculate_ticket_price(age)\n",
    "        attendees.append((person_name, age, ticket_price))\n",
    "        total_cost += ticket_price\n",
    "\n",
    "    # Display the ticket summary\n",
    "    print(\"\\n--- Ticket Summary ---\")\n",
    "    print(f\"Movie: {selected_movie}\")\n",
    "    for person_name, age, ticket_price in attendees:\n",
    "        price_text = \"Free\" if ticket_price == 0 else f\"${ticket_price}\"\n",
    "        print(f\"{person_name} (Age: {age}) - Ticket Price: {price_text}\")\n",
    "\n",
    "    # Display total cost\n",
    "    print(f\"\\nTotal Cost: ${total_cost}\")\n",
    "\n",
    "# Run the movie booking program\n",
    "book_movie_tickets()\n"
   ]
  },
  {
   "cell_type": "code",
   "execution_count": 3,
   "metadata": {},
   "outputs": [
    {
     "ename": "SyntaxError",
     "evalue": "incomplete input (778763533.py, line 51)",
     "output_type": "error",
     "traceback": [
      "\u001b[1;36m  Cell \u001b[1;32mIn[3], line 51\u001b[1;36m\u001b[0m\n\u001b[1;33m    \u001b[0m\n\u001b[1;37m    ^\u001b[0m\n\u001b[1;31mSyntaxError\u001b[0m\u001b[1;31m:\u001b[0m incomplete input\n"
     ]
    }
   ],
   "source": [
    "number_1=float(input(\"Please Inter First Number = \"))\n",
    "operation=input(\"Please Enter Your Required Operation You Want To Perform (+,-,*,/) \")\n",
    "number_2=float(input(\"Please Inter Second Number = \"))\n",
    "result=None\n",
    "if operation==\"+\":\n",
    "    result=number_1+number_2\n",
    "elif operation=='-':\n",
    "    result=number_1-number_2\n",
    "elif operation=='*':\n",
    "    result=number_1*number_2\n",
    "elif operation=='/':\n",
    "     if number_2 != 0:\n",
    "         result=number_1/number_2\n",
    "     else:\n",
    "            print('Error: Divide By 0 Is Not Allowed')\n",
    "            result=None\n",
    "else:\n",
    "    result = \"Invalid Operation\"\n",
    "\n",
    "print(f\"Your Result Is = {result}\")\n",
    "\n",
    "            \n"
   ]
  },
  {
   "cell_type": "code",
   "execution_count": null,
   "metadata": {},
   "outputs": [],
   "source": []
  }
 ],
 "metadata": {
  "kernelspec": {
   "display_name": "Python 3",
   "language": "python",
   "name": "python3"
  },
  "language_info": {
   "codemirror_mode": {
    "name": "ipython",
    "version": 3
   },
   "file_extension": ".py",
   "mimetype": "text/x-python",
   "name": "python",
   "nbconvert_exporter": "python",
   "pygments_lexer": "ipython3",
   "version": "3.12.5"
  }
 },
 "nbformat": 4,
 "nbformat_minor": 2
}
