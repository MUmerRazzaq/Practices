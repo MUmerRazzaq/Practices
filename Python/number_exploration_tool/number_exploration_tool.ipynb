{
 "cells": [
  {
   "cell_type": "code",
   "execution_count": 1,
   "metadata": {},
   "outputs": [
    {
     "name": "stdout",
     "output_type": "stream",
     "text": [
      "Hello, umer! Let's explore your favorite numbers:\n",
      "Your Favorite Number Is 2\n",
      "Your Favorite Number Is 3\n",
      "Your Favorite Number Is 4\n"
     ]
    },
    {
     "ename": "NameError",
     "evalue": "name 'even' is not defined",
     "output_type": "error",
     "traceback": [
      "\u001b[1;31m---------------------------------------------------------------------------\u001b[0m",
      "\u001b[1;31mNameError\u001b[0m                                 Traceback (most recent call last)",
      "Cell \u001b[1;32mIn[1], line 9\u001b[0m\n\u001b[0;32m      7\u001b[0m \u001b[38;5;28;01mfor\u001b[39;00m num \u001b[38;5;129;01min\u001b[39;00m favorite_number:\n\u001b[0;32m      8\u001b[0m     \u001b[38;5;28;01mif\u001b[39;00m num \u001b[38;5;241m%\u001b[39m \u001b[38;5;241m2\u001b[39m \u001b[38;5;241m==\u001b[39m \u001b[38;5;241m0\u001b[39m:  \n\u001b[1;32m----> 9\u001b[0m         \u001b[43meven\u001b[49m\u001b[38;5;241m+\u001b[39m\u001b[38;5;241m=\u001b[39m(num,)\n\u001b[0;32m     10\u001b[0m         \u001b[38;5;28mprint\u001b[39m(\u001b[38;5;124mf\u001b[39m\u001b[38;5;124m'\u001b[39m\u001b[38;5;124mThe Number \u001b[39m\u001b[38;5;132;01m{\u001b[39;00mnum\u001b[38;5;132;01m}\u001b[39;00m\u001b[38;5;124m Is even\u001b[39m\u001b[38;5;124m'\u001b[39m)\n\u001b[0;32m     11\u001b[0m     \u001b[38;5;28;01melse\u001b[39;00m:\n",
      "\u001b[1;31mNameError\u001b[0m: name 'even' is not defined"
     ]
    }
   ],
   "source": [
    "user_name:str=input('Please Enter Your Name')\n",
    "favorite_number:list=[int(input(f'Please Enter Favorite Number # {i+1}'))for i in range(3)]\n",
    "print(f\"Hello, {user_name}! Let's explore your favorite numbers:\")\n",
    "even: tuple =()\n",
    "odd: tuple = ()\n",
    "for num in favorite_number:\n",
    "    print(f\"Your Favorite Number Is {num}\")\n",
    "for num in favorite_number:\n",
    "    if num % 2 == 0:  \n",
    "        even+=(num,)\n",
    "        print(f'The Number {num} Is even')\n",
    "    else:\n",
    "        odd+=(num,)\n",
    "        print(f\"The Number {num} Is odd\")\n",
    "for num in favorite_number:\n",
    "    sqr_info:tuple=(num,num**2)\n",
    "    print(f\"The Number {num} And It's square: {sqr_info}\")\n",
    "number_sum=sum(favorite_number)\n",
    "print(f'Amazing! The sum of your favorite numbers is: {number_sum}')\n",
    "if number_sum > 1:  \n",
    "    for i in range(2, number_sum):\n",
    "        if number_sum % i == 0:  \n",
    "            print(f\"{number_sum} is not a prime number.\")\n",
    "            break\n",
    "    else:\n",
    "        print(f\"Wow! {number_sum} is a prime number!\")\n",
    "else:\n",
    "    print(f\"{number_sum} is not a prime number.\")"
   ]
  },
  {
   "cell_type": "code",
   "execution_count": null,
   "metadata": {},
   "outputs": [],
   "source": []
  }
 ],
 "metadata": {
  "kernelspec": {
   "display_name": "Python 3",
   "language": "python",
   "name": "python3"
  },
  "language_info": {
   "codemirror_mode": {
    "name": "ipython",
    "version": 3
   },
   "file_extension": ".py",
   "mimetype": "text/x-python",
   "name": "python",
   "nbconvert_exporter": "python",
   "pygments_lexer": "ipython3",
   "version": "3.12.5"
  }
 },
 "nbformat": 4,
 "nbformat_minor": 2
}
