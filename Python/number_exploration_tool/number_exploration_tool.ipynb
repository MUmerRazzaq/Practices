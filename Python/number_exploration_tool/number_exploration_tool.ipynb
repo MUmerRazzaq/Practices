{
 "cells": [
  {
   "cell_type": "code",
   "execution_count": 2,
   "metadata": {},
   "outputs": [
    {
     "name": "stdout",
     "output_type": "stream",
     "text": [
      "Hello, Umer ! Let's explore your favorite numbers:\n",
      "Your Favorite Number Is 2\n",
      "Your Favorite Number Is 3\n",
      "Your Favorite Number Is 4\n",
      "The Number 2 Is even\n",
      "The Number 3 Is odd\n",
      "The Number 4 Is even\n",
      "The Number 2 And It's square: (2, 4)\n",
      "The Number 3 And It's square: (3, 9)\n",
      "The Number 4 And It's square: (4, 16)\n",
      "Amazing! The sum of your favorite numbers is: 9\n",
      "9 is not a prime number.\n"
     ]
    }
   ],
   "source": [
    "user_name:str=input('Please Enter Your Name')\n",
    "favorite_number:list=[int(input(f'Please Enter Favorite Number # {i+1}'))for i in range(3)]\n",
    "print(f\"Hello, {user_name}! Let's explore your favorite numbers:\")\n",
    "even: tuple =()\n",
    "odd: tuple = ()\n",
    "for num in favorite_number:\n",
    "    print(f\"Your Favorite Number Is {num}\")\n",
    "for num in favorite_number:\n",
    "    if num % 2 == 0:  \n",
    "        even+=(num,)\n",
    "        print(f'The Number {num} Is even')\n",
    "    else:\n",
    "        odd+=(num,)\n",
    "        print(f\"The Number {num} Is odd\")\n",
    "for num in favorite_number:\n",
    "    sqr_info:tuple=(num,num**2)\n",
    "    print(f\"The Number {num} And It's square: {sqr_info}\")\n",
    "number_sum=sum(favorite_number)\n",
    "print(f'Amazing! The sum of your favorite numbers is: {number_sum}')\n",
    "if number_sum > 1:  \n",
    "    for i in range(2, number_sum):\n",
    "        if number_sum % i == 0:  \n",
    "            print(f\"{number_sum} is not a prime number.\")\n",
    "            break\n",
    "    else:\n",
    "        print(f\"Wow! {number_sum} is a prime number!\")\n",
    "else:\n",
    "    print(f\"{number_sum} is not a prime number.\")"
   ]
  },
  {
   "cell_type": "code",
   "execution_count": null,
   "metadata": {},
   "outputs": [],
   "source": []
  }
 ],
 "metadata": {
  "kernelspec": {
   "display_name": "Python 3",
   "language": "python",
   "name": "python3"
  },
  "language_info": {
   "codemirror_mode": {
    "name": "ipython",
    "version": 3
   },
   "file_extension": ".py",
   "mimetype": "text/x-python",
   "name": "python",
   "nbconvert_exporter": "python",
   "pygments_lexer": "ipython3",
   "version": "3.12.5"
  }
 },
 "nbformat": 4,
 "nbformat_minor": 2
}
