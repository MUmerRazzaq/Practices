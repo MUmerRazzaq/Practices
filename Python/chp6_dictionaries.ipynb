{
 "cells": [
  {
   "cell_type": "code",
   "execution_count": 7,
   "metadata": {},
   "outputs": [
    {
     "name": "stdout",
     "output_type": "stream",
     "text": [
      "M Umer\n",
      "Razzaq\n",
      "22\n",
      "Lahore\n",
      "dict_items([('first_name', 'M Umer'), ('last_name', 'Razzaq'), ('age', 22), ('city', 'Lahore'), ('gander', 'male')])\n",
      "dict_values(['M Umer', 'Razzaq', 22, 'Lahore', 'male'])\n"
     ]
    }
   ],
   "source": [
    "# 6-1. Person: Use a dictionary to store information about a person you know. \n",
    "# Store their first name, last name, age, and the city in which they live. You \n",
    "# should have keys such as first_name, last_name, age, and city. Print each piece \n",
    "# of information stored in your dictionary.\n",
    "\n",
    "person_info:dict={\"first_name\":\"M Umer\",\"last_name\":\"Razzaq\",\"age\":22,\"city\":\"Lahore\"}\n",
    "print(person_info.get(\"first_name\")) #get by single key\n",
    "print(person_info.get(\"last_name\"))\n",
    "print(person_info.get(\"age\"))\n",
    "print(person_info.get(\"city\"))\n",
    "person_info.update({'gander':'male'})\n",
    "\n",
    "print(person_info.items()) #get all items as a tuple with key and value\n",
    "print(person_info.values()) #get values as a list"
   ]
  },
  {
   "cell_type": "code",
   "execution_count": 20,
   "metadata": {},
   "outputs": [
    {
     "name": "stdout",
     "output_type": "stream",
     "text": [
      "Favorite Numbers of Umer : (9, 4)\n",
      "Favorite Numbers of Talha : (19, 23)\n",
      "Favorite Numbers of Hamza : (232, 12)\n",
      "Favorite Numbers of Hassib : (322, 13)\n",
      "Favorite Numbers of Shahbaz : (2323, 77)\n"
     ]
    }
   ],
   "source": [
    "# 6-2. Favorite Numbers: Use a dictionary to store people’s favorite numbers. \n",
    "# Think of five names, and use them as keys in your dictionary. Think of a favorite \n",
    "# Dictionaries   99\n",
    "# number for each person, and store each as a value in your dictionary. Print \n",
    "# each person’s name and their favorite number. For even more fun, poll a few \n",
    "# friends and get some actual data for your program\n",
    "favorite_number:dict={\"umer\":(9,4),\"talha\":(19,23),\"hamza\":(232,12),\"hassib\":(322,13),\"shahbaz\":(2323,77)}\n",
    "for name,number in favorite_number.items():\n",
    "    print(f'Favorite Numbers of {name.title()} : {number}')"
   ]
  },
  {
   "cell_type": "code",
   "execution_count": 35,
   "metadata": {},
   "outputs": [
    {
     "name": "stdout",
     "output_type": "stream",
     "text": [
      " algorithm\n",
      "Debugging\n",
      "Variable\n",
      "Class\n",
      "Function\n",
      "Procedure\n",
      "Troubleshooting\n",
      "Storage\n",
      "Blueprint\n",
      "Subroutine\n",
      "The world  Algorithm meaning is Procedure\n",
      "key: algorithm\n",
      "value:Procedure\n",
      "The world Debugging meaning is Troubleshooting\n",
      "key:Debugging\n",
      "value:Troubleshooting\n",
      "The world Variable meaning is Storage\n",
      "key:Variable\n",
      "value:Storage\n",
      "The world Class meaning is Blueprint\n",
      "key:Class\n",
      "value:Blueprint\n",
      "The world Function meaning is Subroutine\n",
      "key:Function\n",
      "value:Subroutine\n"
     ]
    }
   ],
   "source": [
    "# 6-3. Glossary: A Python dictionary can be used to model an actual dictionary. \n",
    "# However, to avoid confusion, let’s call it a glossary.\n",
    "# • Think of five programming words you’ve learned about in the previous \n",
    "# chapters. Use these words as the keys in your glossary, and store their \n",
    "# meanings as values.\n",
    "# • Print each word and its meaning as neatly formatted output. You might \n",
    "# print the word followed by a colon and then its meaning, or print the word \n",
    "# on one line and then print its meaning indented on a second line. Use the \n",
    "# newline character (\\n) to insert a blank line between each word-meaning \n",
    "# pair in your output.\n",
    "glossary:dict={\n",
    "   \" algorithm\": \"Procedure\",\n",
    "    \"Debugging\": \"Troubleshooting\",\n",
    "    \"Variable\": \"Storage\",\n",
    "    \"Class\": \"Blueprint\",\n",
    "    \"Function\": \"Subroutine\",\n",
    "}\n",
    "for word in glossary.keys(): \n",
    "    print(word)\n",
    "for word in glossary.values():\n",
    "    print(word)\n",
    "for word , meaning in glossary.items():\n",
    "    print(f'The world {word.title()} meaning is {meaning}')\n",
    "    print(f\"key:{word}\")\n",
    "    print(f'value:{meaning}')"
   ]
  },
  {
   "cell_type": "code",
   "execution_count": 60,
   "metadata": {},
   "outputs": [
    {
     "name": "stdout",
     "output_type": "stream",
     "text": [
      "{'umer': 'school', 'ali': 'college', 'ahmed': 'school', 'hassan': 'university', 'nadem': 'academy'}\n",
      "['umer', 'ali', 'nadem']\n",
      "Hello!, umer Nice To Meet You\n",
      "\tUmer you study in a school\n",
      "Hello!, ali Nice To Meet You\n",
      "\tAli you study in a college\n",
      "Hello!, ahmed Nice To Meet You\n",
      "\t\tahmed Plese connect us!\n",
      "Hello!, hassan Nice To Meet You\n",
      "\t\thassan Plese connect us!\n",
      "Hello!, nadem Nice To Meet You\n",
      "\tNadem you study in a academy\n"
     ]
    }
   ],
   "source": [
    "student:dict={\n",
    "    \"umer\":\"school\",\n",
    "    \"ali\":\"college\",\n",
    "    \"ahmed\":\"school\",\n",
    "    \"hassan\":\"university\",\n",
    "    \"nadem\":\"academy\"\n",
    "}\n",
    "list1:list=[\"umer\",'ali',\"nadem\"]\n",
    "print(student)\n",
    "print(list1)\n",
    "for name in student.keys():\n",
    "    print(f'Hello!, {name} Nice To Meet You')\n",
    "    if name in list1:\n",
    "        study=student[name]\n",
    "        print(f'\\t{name.title()} you study in a {study}')\n",
    "    if name not in list1:\n",
    "        print(f'\\t\\t{name} Plese connect us!')"
   ]
  },
  {
   "cell_type": "code",
   "execution_count": 65,
   "metadata": {},
   "outputs": [
    {
     "name": "stdout",
     "output_type": "stream",
     "text": [
      "Edward, thank you for taking the poll.\n",
      "Jen, thank you for taking the poll.\n",
      "Phil, thank you for taking the poll.\n",
      "Sarah, thank you for taking the poll.\n"
     ]
    }
   ],
   "source": [
    "favorite_languages = {\n",
    " 'jen': 'python',\n",
    " 'sarah': 'c',\n",
    " 'edward': 'rust',\n",
    " 'phil': 'python',\n",
    " }\n",
    "\n",
    "for name in sorted(favorite_languages.keys()):\n",
    " print(f\"{name.title()}, thank you for taking the poll.\")"
   ]
  },
  {
   "cell_type": "code",
   "execution_count": 70,
   "metadata": {},
   "outputs": [
    {
     "name": "stdout",
     "output_type": "stream",
     "text": [
      "Nile pass through Egypt\n",
      "Amazon pass through Brazil\n",
      "Yangtze pass through China\n",
      "Egypt\n",
      "Brazil\n",
      "China\n",
      "Nile\n",
      "Amazon\n",
      "Yangtze\n"
     ]
    }
   ],
   "source": [
    "# 6-5. Rivers: Make a dictionary containing three major rivers and the country \n",
    "# each river runs through. One key-value pair might be 'nile': 'egypt'.\n",
    "# • Use a loop to print a sentence about each river, such as The Nile runs \n",
    "# through Egypt.\n",
    "# • Use a loop to print the name of each river included in the dictionary.\n",
    "# • Use a loop to print the name of each country included in the dictionary.\n",
    "rivers = {\n",
    "    'Nile': 'Egypt',\n",
    "    'Amazon': 'Brazil',\n",
    "    'Yangtze': 'China'\n",
    "}\n",
    "for rives , country in rivers.items():\n",
    "    print(f'{rives} pass through {country}')\n",
    "for rives in rivers.values():\n",
    "    print(rives)\n",
    "for country in rivers.keys():\n",
    "    print(country)"
   ]
  },
  {
   "cell_type": "code",
   "execution_count": 72,
   "metadata": {},
   "outputs": [
    {
     "name": "stdout",
     "output_type": "stream",
     "text": [
      "Jen You are already polled\n",
      "Sarah You are already polled\n",
      "Edward You are invited for poll\n",
      "Phil You are invited for poll\n"
     ]
    }
   ],
   "source": [
    "# 6-6. Polling: Use the code in favorite_languages.py (page 96).\n",
    "# • Make a list of people who should take the favorite languages poll. Include \n",
    "# some names that are already in the dictionary and some that are not.\n",
    "# • Loop through the list of people who should take the poll. If they have \n",
    "# already taken the poll, print a message thanking them for responding. \n",
    "# If they have not yet taken the poll, print a message inviting them to take \n",
    "# the poll\n",
    "favorite_languages = {\n",
    " 'jen': 'python',\n",
    " 'sarah': 'c',\n",
    " 'edward': 'rust',\n",
    " 'phil': 'python',\n",
    " }\n",
    "name:list=['jen',\"Umer\",\"Ali\",\"sarah\"]\n",
    "for names in favorite_languages.keys():\n",
    "    if names in name:\n",
    "        print(f'{names.title()} You are already polled')\n",
    "    else:\n",
    "        print(f'{names.title()} You are invited for poll')"
   ]
  },
  {
   "cell_type": "code",
   "execution_count": 4,
   "metadata": {},
   "outputs": [
    {
     "name": "stdout",
     "output_type": "stream",
     "text": [
      "Info About the user1 Is:\n",
      "\tFirst Name : M Umer\n",
      "\tLast Name : Razzaq\n",
      "\tAge : 22\n",
      "\tCity : Lahore\n",
      "Info About the user2 Is:\n",
      "\tFirst Name : Talha\n",
      "\tLast Name : Riaz\n",
      "\tAge : 23\n",
      "\tCity : Lahore\n",
      "Info About the user3 Is:\n",
      "\tFirst Name : Hamza\n",
      "\tLast Name : Riaz\n",
      "\tAge : 21\n",
      "\tCity : Nankana\n"
     ]
    }
   ],
   "source": [
    "# 6-7. People: Start with the program you wrote for Exercise 6-1 (page 98). Make \n",
    "# two new dictionaries representing different people, and store all three\n",
    "#  dictionaries in a list called people. Loop through your list of people. As you loop through \n",
    "# the list, print everything you know about each person.\n",
    "\n",
    "person_info:dict={\n",
    "    \"user1\":{\n",
    "        \"first_name\":\"M Umer\",\n",
    "        \"last_name\":\"Razzaq\",\n",
    "        \"age\":22,\n",
    "        \"city\":\"Lahore\"\n",
    "    },\n",
    "    \"user2\":{\n",
    "        \"first_name\":\"Talha\",\n",
    "        \"last_name\":\"Riaz\",\n",
    "        \"age\":23,\n",
    "        \"city\":\"Lahore\"\n",
    "    },\n",
    "    \"user3\":{\n",
    "        \"first_name\":\"Hamza\",\n",
    "        \"last_name\":\"Riaz\",\n",
    "        \"age\":21,\n",
    "        \"city\":\"Nankana\"\n",
    "    }\n",
    "}\n",
    "for details,info in person_info.items():\n",
    "    print(f'Info About the {details} Is:')\n",
    "    print(f'\\tFirst Name : {info.get(\"first_name\").title()}')\n",
    "    print(f'\\tLast Name : {info.get(\"last_name\").title()}')\n",
    "    print(f'\\tAge : {info.get(\"age\")}')\n",
    "    print(f'\\tCity : {info.get(\"city\").title()}')\n",
    "   "
   ]
  },
  {
   "cell_type": "code",
   "execution_count": 1,
   "metadata": {},
   "outputs": [
    {
     "name": "stdout",
     "output_type": "stream",
     "text": [
      "Info About Fish is:\n",
      "\tType : Goldfish\n",
      "\tOwner Name : Talha\n",
      "Info About Dog is:\n",
      "\tType : Mammals\n",
      "\tOwner Name : Hamza\n",
      "Info About Cat is:\n",
      "\tType : Mammals\n",
      "\tOwner Name : Talha\n",
      "Info About Parrots is:\n",
      "\tType : Birds\n",
      "\tOwner Name : Umer\n"
     ]
    }
   ],
   "source": [
    "# 6-8. Pets: Make several dictionaries, where each dictionary represents\n",
    "# a different pet. In each dictionary, include the kind of animal and the owner’s name. \n",
    "# Store these dictionaries in a list called pets. Next, loop through your list and as \n",
    "# you do, print everything you know about each pet\n",
    "pets:dict={\n",
    "    'fish':{\n",
    "        'type':'goldfish',\n",
    "        \"owner_name\":\"Talha\"\n",
    "    },\n",
    "    \"dog\":{\n",
    "        \"type\":\"mammals\",\n",
    "        \"owner_name\":\"Hamza\"\n",
    "    },\n",
    "    'cat':{\n",
    "        \"type\":\"mammals\",\n",
    "        \"owner_name\":\"Talha\"\n",
    "    },\n",
    "    \"parrots\":{\n",
    "        \"type\":\"birds\",\n",
    "        \"owner_name\":\"Umer\"\n",
    "    }\n",
    "}\n",
    "for pet,info in pets.items():\n",
    "    print(f'Info About {pet.title()} is:')\n",
    "    print(f\"\\tType : {info.get(\"type\").title()}\")\n",
    "    print(f\"\\tOwner Name : {info.get(\"owner_name\")}\")"
   ]
  },
  {
   "cell_type": "code",
   "execution_count": 15,
   "metadata": {},
   "outputs": [
    {
     "name": "stdout",
     "output_type": "stream",
     "text": [
      "Favorite Place Of Talha Is Lahore.\n",
      "Favorite Place Of Hamza Is Nankana.\n",
      "Favorite Place Of Umer Is Murree.\n"
     ]
    }
   ],
   "source": [
    "# 6-9. Favorite Places: Make a dictionary called favorite_places. Think of three \n",
    "# names to use as keys in the dictionary, and store one to three favorite places for \n",
    "# each person. To make this exercise a bit more interesting, ask some friends to \n",
    "# name a few of their favorite places. Loop through the dictionary, and print each \n",
    "# person’s name and their favorite places.\n",
    "favorite_places:dict={\n",
    " 'talha':'lahore',\n",
    " 'hamza':'nankana',\n",
    " 'umer':'murree'   \n",
    "}\n",
    "for name,place in favorite_places.items():\n",
    "    print(f'Favorite Place Of {name.title()} Is {place.title()}.')"
   ]
  },
  {
   "cell_type": "code",
   "execution_count": 27,
   "metadata": {},
   "outputs": [
    {
     "name": "stdout",
     "output_type": "stream",
     "text": [
      "Facts about New York:\n",
      "\t Country : USA\n",
      "\t Population : 8416000\n",
      "\tFact : New York is known as 'The Big Apple'.\n",
      "Facts about Tokyo:\n",
      "\t Country : Japan\n",
      "\t Population : 13929000\n",
      "\tFact : Tokyo is the most populous metropolitan area in the world.\n",
      "Facts about Paris:\n",
      "\t Country : France\n",
      "\t Population : 2148000\n",
      "\tFact : Paris is known as 'The City of Light'.\n"
     ]
    }
   ],
   "source": [
    "\n",
    "# 6-11. Cities: Make a dictionary called cities. Use the names of three cities as \n",
    "# keys in your dictionary. Create a dictionary of information about each city and \n",
    "# include the country that the city is in, its approximate population, and one fact \n",
    "# about that city. The keys for each city’s dictionary should be something like \n",
    "# country, population, and fact. Print the name of each city and all of the \n",
    "# information you have stored about it\n",
    "cities = {\n",
    "    \"New York\": {\n",
    "        \"country\": \"USA\",\n",
    "        \"population\": 8416000,  # Approximate population\n",
    "        \"fact\": \"New York is known as 'The Big Apple'.\"\n",
    "    },\n",
    "    \"Tokyo\": {\n",
    "        \"country\": \"Japan\",\n",
    "        \"population\": 13929000,  # Approximate population\n",
    "        \"fact\": \"Tokyo is the most populous metropolitan area in the world.\"\n",
    "    },\n",
    "    \"Paris\": {\n",
    "        \"country\": \"France\",\n",
    "        \"population\": 2148000,  # Approximate population\n",
    "        \"fact\": \"Paris is known as 'The City of Light'.\"\n",
    "    }\n",
    "}\n",
    "for city , info in cities.items():\n",
    "    print(f'Facts about {city.title()}:')\n",
    "    print(f'\\t Country : {info.get(\"country\")}')\n",
    "    print(f'\\t Population : {info.get(\"population\")}')\n",
    "    print(f'\\t Fact : {info.get('fact')}')"
   ]
  },
  {
   "cell_type": "code",
   "execution_count": null,
   "metadata": {},
   "outputs": [],
   "source": []
  }
 ],
 "metadata": {
  "kernelspec": {
   "display_name": "Python 3",
   "language": "python",
   "name": "python3"
  },
  "language_info": {
   "codemirror_mode": {
    "name": "ipython",
    "version": 3
   },
   "file_extension": ".py",
   "mimetype": "text/x-python",
   "name": "python",
   "nbconvert_exporter": "python",
   "pygments_lexer": "ipython3",
   "version": "3.12.5"
  }
 },
 "nbformat": 4,
 "nbformat_minor": 2
}
