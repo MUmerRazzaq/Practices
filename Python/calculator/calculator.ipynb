{
 "cells": [
  {
   "cell_type": "code",
   "execution_count": 2,
   "metadata": {},
   "outputs": [
    {
     "name": "stdout",
     "output_type": "stream",
     "text": [
      "Division of 3.0 and 9.0 is : 0.3333333333333333\n"
     ]
    }
   ],
   "source": [
    "def add(a,b):\n",
    "     return a+b\n",
    "def sub(a,b):\n",
    "     return a-b\n",
    "def div (a,b):\n",
    "     if b==0:\n",
    "          return \"Error! Divide By Zero(0) Is Not Allowed\"\n",
    "     return a/b\n",
    "def multi (a,b):\n",
    "     return a*b\n",
    "def calculator():\n",
    "     while True:\n",
    "          try:\n",
    "               num1=float(input(\"Please Enter The 1st Number: \"))\n",
    "               break\n",
    "          except ValueError:\n",
    "               print(\"Invalid Input! Please enter a valid number for the 1st number.\")    \n",
    "    \n",
    "     operation:str=input(\"Please Enter Your Required Operation You Want To Perform (+,-,*,/): \")\n",
    "     while True:\n",
    "          try:\n",
    "               num2=float(input(\"Please Enter The 2nd Number: \"))\n",
    "               break\n",
    "          except ValueError:\n",
    "               print(\"Invalid Input! Please enter a valid number for the 2nd number.\") \n",
    "     try:\n",
    "          if operation == \"+\":\n",
    "               result=add(num1,num2)\n",
    "               print(f\"Sum of {num1} and {num2} is : {result}\")\n",
    "          elif operation == \"-\":\n",
    "               result=sub(num1,num2)\n",
    "               print(f\"Subtraction of {num1} and {num2} is : {result}\")\n",
    "          elif operation==\"/\":\n",
    "               result=div(num1,num2)\n",
    "               print(f\"Division of {num1} and {num2} is : {result}\")\n",
    "          elif operation ==\"*\":\n",
    "               result=multi(num1,num2)\n",
    "               print(f\"Multiplication of {num1} and {num2} is : {result}\")\n",
    "          else:\n",
    "               print(\"Invalid Operation! Please Select The valid operation (+,-,*,/)\")\n",
    "     except ValueError:\n",
    "          return(\"Invalid Input! Please enter valid numbers.\")\n",
    "     \n",
    "    \n",
    "\n",
    "calculator()"
   ]
  },
  {
   "cell_type": "code",
   "execution_count": null,
   "metadata": {},
   "outputs": [],
   "source": []
  }
 ],
 "metadata": {
  "kernelspec": {
   "display_name": "Python 3",
   "language": "python",
   "name": "python3"
  },
  "language_info": {
   "codemirror_mode": {
    "name": "ipython",
    "version": 3
   },
   "file_extension": ".py",
   "mimetype": "text/x-python",
   "name": "python",
   "nbconvert_exporter": "python",
   "pygments_lexer": "ipython3",
   "version": "3.12.5"
  }
 },
 "nbformat": 4,
 "nbformat_minor": 2
}
