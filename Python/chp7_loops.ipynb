{
 "cells": [
  {
   "cell_type": "code",
   "execution_count": 1,
   "metadata": {},
   "outputs": [
    {
     "name": "stdout",
     "output_type": "stream",
     "text": [
      "Let me see if I can find you a hon.\n"
     ]
    }
   ],
   "source": [
    "# 7-1. Rental Car: Write a program that asks the user what kind of rental car they \n",
    "# would like. Print a message about that car, such as “Let me see if I can find you \n",
    "# a Subaru.\n",
    "car=str(input(\"Please Enter The Car You Want To Rent:\"))\n",
    "print(f'Let me see if I can find you a {car}.')"
   ]
  },
  {
   "cell_type": "code",
   "execution_count": 5,
   "metadata": {},
   "outputs": [
    {
     "name": "stdout",
     "output_type": "stream",
     "text": [
      "You have to wait for a table.\n"
     ]
    }
   ],
   "source": [
    "# 7-2. Restaurant Seating: Write a program that asks the user how many people \n",
    "# are in their dinner group. If the answer is more than eight, print a message\n",
    "#  saying they’ll have to wait for a table.\n",
    "#  Otherwise, report that their table is ready.\n",
    "people=int(input(\"How many people are in your dinner group?\"))\n",
    "if people<=8:\n",
    "    print(\"Your table is ready.\")\n",
    "else:\n",
    "    print(\"You have to wait for a table.\")"
   ]
  },
  {
   "cell_type": "code",
   "execution_count": 3,
   "metadata": {},
   "outputs": [
    {
     "name": "stdout",
     "output_type": "stream",
     "text": [
      "The number 23.0 is not the multiple of 10\n"
     ]
    }
   ],
   "source": [
    "# 7-3. Multiples of Ten: Ask the user for a number, and then report whether the \n",
    "# number is a multiple of 10 or not.\n",
    "num=float(input(\"Enter a Number:\"))\n",
    "if (num%10==0):\n",
    "    print(f'The number {num} Is multiple of 10')\n",
    "else:\n",
    "    print(f'The number {num} is not the multiple of 10')"
   ]
  },
  {
   "cell_type": "code",
   "execution_count": 4,
   "metadata": {},
   "outputs": [
    {
     "name": "stdout",
     "output_type": "stream",
     "text": [
      "You Have Added Sdcsd Topping To Your Pizza\n",
      "You Have Added Adad Topping To Your Pizza\n",
      "You Have Added Sda Topping To Your Pizza\n"
     ]
    }
   ],
   "source": [
    "# 7-4. Pizza Toppings: Write a loop that prompts the user to enter a series of \n",
    "# pizza toppings until they enter a 'quit' value. As they enter each topping, print \n",
    "# a message saying you’ll add that topping to their pizza.\n",
    "prompt:str=\"\\nPlease Enter The Topping You Want To Add: \\n(Enter Quit When You Finished)\"\n",
    "while True:\n",
    "    topping:str=input(prompt)\n",
    "    if topping.strip().lower()==\"quit\":\n",
    "        break\n",
    "    print(f'You Have Added {topping.title()} Topping To Your Pizza')"
   ]
  },
  {
   "cell_type": "code",
   "execution_count": 14,
   "metadata": {},
   "outputs": [
    {
     "name": "stdout",
     "output_type": "stream",
     "text": [
      "Please Enter A Valid Age Number\n",
      "Please Enter A Valid Age Number\n",
      "Please Enter A Valid Age Number\n",
      "Please Enter A Valid Age Number\n",
      "Please Enter A Valid Age Number\n",
      "Please Enter A Valid Age Number\n",
      "Please Enter A Valid Age Number\n",
      "Please Enter A Valid Age Number\n",
      "Please Enter A Valid Age Number\n",
      "Please Enter A Valid Age Number\n",
      "Please Enter A Valid Age Number\n",
      "You Can Enjoy This movie For Free.\n",
      "You Can Enjoy This movie For Free.\n",
      "This Move Will Cost You 10$\n",
      "This Move Will Cost You 10$\n",
      "You Can Enjoy This movie For Free.\n",
      "This Move Will Cost You 10$\n",
      "Please Enter A Valid Age Number\n",
      "This Move Will Cost You 10$\n",
      "You Can Enjoy This movie For Free.\n",
      "Age Can Not Be Less Then 0\n"
     ]
    }
   ],
   "source": [
    "# 7-5. Movie Tickets: A movie theater charges different ticket prices depending on \n",
    "# a person’s age. If a person is under the age of 3, the ticket is free; if they are \n",
    "# between 3 and 12, the ticket is $10; and if they are over age 12, the ticket is \n",
    "# $15. Write a loop in which you ask users their age, and then tell them the cost \n",
    "# of their movie ticket\n",
    "prompt:str=\"Please Enter Your Age:\\n (Enter Quit When To Finish)\"\n",
    "while True:\n",
    "    age=(input(prompt).strip())\n",
    "\n",
    "    if age.lower() == \"quit\":\n",
    "        break \n",
    "    try:\n",
    "        age=int(age)\n",
    "        if age<0:\n",
    "            print(\"Age Can Not Be Less Then 0\")\n",
    "        elif 0<age <3:\n",
    "            print (\"You Can Enjoy This movie For Free.\")\n",
    "        elif 3<=age<=12:\n",
    "            print(\"This Move Will Cost You 10$\")\n",
    "        elif age >12:     \n",
    "            print('This Movie Will Cost You 15$ ')\n",
    "    except ValueError:\n",
    "        print('Please Enter A Valid Age Number')"
   ]
  },
  {
   "cell_type": "code",
   "execution_count": null,
   "metadata": {},
   "outputs": [],
   "source": [
    "# Write a program to book movie tickets. The program should first ask for the user's name,\n",
    "#  then display a list of available movies and let the user select one. After selecting a movie, \n",
    "# it should ask for the number of people attending and then collect the name and age of each person. \n",
    "# For each person, calculate the ticket price: free for those under 3, $10 for ages 3 to 12, and $15 for \n",
    "# those older than 12. Finally, display the selected movie, the name and cost of each person's ticket, \n",
    "# and the total ticket cost."
   ]
  },
  {
   "cell_type": "code",
   "execution_count": null,
   "metadata": {},
   "outputs": [],
   "source": []
  }
 ],
 "metadata": {
  "kernelspec": {
   "display_name": "Python 3",
   "language": "python",
   "name": "python3"
  },
  "language_info": {
   "codemirror_mode": {
    "name": "ipython",
    "version": 3
   },
   "file_extension": ".py",
   "mimetype": "text/x-python",
   "name": "python",
   "nbconvert_exporter": "python",
   "pygments_lexer": "ipython3",
   "version": "3.12.5"
  }
 },
 "nbformat": 4,
 "nbformat_minor": 2
}
