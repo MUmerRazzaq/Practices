{
 "cells": [
  {
   "cell_type": "code",
   "execution_count": 1,
   "metadata": {},
   "outputs": [
    {
     "name": "stdout",
     "output_type": "stream",
     "text": [
      "Ali\n",
      "Umer\n",
      "Umair\n",
      "Asad\n",
      "Hassan\n",
      "Nadeem\n",
      "Tayab\n",
      "Munir\n"
     ]
    }
   ],
   "source": [
    "names:list=['Ali','Umer','Umair','Asad','Hassan','Nadeem','Tayab','Munir']\n",
    "print(names[0])\n",
    "print(names[1])\n",
    "print(names[2])\n",
    "print(names[3])\n",
    "print(names[4])\n",
    "print(names[5])\n",
    "print(names[6])\n",
    "print(names[7])"
   ]
  },
  {
   "cell_type": "code",
   "execution_count": 2,
   "metadata": {},
   "outputs": [
    {
     "name": "stdout",
     "output_type": "stream",
     "text": [
      "Ali\n",
      "Umer\n",
      "Umair\n",
      "Asad\n",
      "Hassan\n",
      "Nadeem\n",
      "Tayab\n",
      "Munir\n"
     ]
    }
   ],
   "source": [
    "for name in names:\n",
    "    print(name)"
   ]
  },
  {
   "cell_type": "code",
   "execution_count": 2,
   "metadata": {},
   "outputs": [
    {
     "name": "stdout",
     "output_type": "stream",
     "text": [
      "Hello, Nice TO Meet You Ali\n",
      "Hello, Nice TO Meet You Umer\n",
      "Hello, Nice TO Meet You Umair\n",
      "Hello, Nice TO Meet You Asad\n",
      "Hello, Nice TO Meet You Hassan\n",
      "Hello, Nice TO Meet You Nadeem\n",
      "Hello, Nice TO Meet You Tayab\n",
      "Hello, Nice TO Meet You Munir\n"
     ]
    }
   ],
   "source": [
    "print(f\"Hello, Nice TO Meet You {names[0]}\")\n",
    "print(f\"Hello, Nice TO Meet You {names[1]}\")\n",
    "print(f\"Hello, Nice TO Meet You {names[2]}\")\n",
    "print(f\"Hello, Nice TO Meet You {names[3]}\")\n",
    "print(f\"Hello, Nice TO Meet You {names[4]}\")\n",
    "print(f\"Hello, Nice TO Meet You {names[5]}\")\n",
    "print(f\"Hello, Nice TO Meet You {names[6]}\")\n",
    "print(f\"Hello, Nice TO Meet You {names[7]}\")"
   ]
  },
  {
   "cell_type": "code",
   "execution_count": 4,
   "metadata": {},
   "outputs": [
    {
     "name": "stdout",
     "output_type": "stream",
     "text": [
      "Hello, Nice TO Meet You Ali\n",
      "Hello, Nice TO Meet You Umer\n",
      "Hello, Nice TO Meet You Umair\n",
      "Hello, Nice TO Meet You Asad\n",
      "Hello, Nice TO Meet You Hassan\n",
      "Hello, Nice TO Meet You Nadeem\n",
      "Hello, Nice TO Meet You Tayab\n",
      "Hello, Nice TO Meet You Munir\n"
     ]
    }
   ],
   "source": [
    "for name in names:\n",
    "    print(f\"Hello, Nice TO Meet You {name}\")"
   ]
  },
  {
   "cell_type": "code",
   "execution_count": 3,
   "metadata": {},
   "outputs": [
    {
     "name": "stdout",
     "output_type": "stream",
     "text": [
      "I would like to own a Bike.\n",
      "I would like to own a Car.\n",
      "I would like to own a Train.\n",
      "I would like to own a jet.\n"
     ]
    }
   ],
   "source": [
    "transportation_mode:list=['Bike','Car','Train','jet'] # created List\n",
    "index=0 #taken Index at 0\n",
    "while index < len(transportation_mode): #condition to print until index less then length of list because it length start from 1 and index from 0 \n",
    "    print(f'I would like to own a {transportation_mode[index]}.') #print massage with name where index is pointing \n",
    "    index+=1 #increase index by 1 to print next massage  "
   ]
  },
  {
   "cell_type": "code",
   "execution_count": 4,
   "metadata": {},
   "outputs": [
    {
     "name": "stdout",
     "output_type": "stream",
     "text": [
      "Hello Ali, I'm Great full to invite you for a dinner.\n",
      "Hello Umer, I'm Great full to invite you for a dinner.\n",
      "Hello Umair, I'm Great full to invite you for a dinner.\n",
      "Hello Asad, I'm Great full to invite you for a dinner.\n",
      "Hello Hassan, I'm Great full to invite you for a dinner.\n",
      "Hello Nadeem, I'm Great full to invite you for a dinner.\n",
      "Hello Tayab, I'm Great full to invite you for a dinner.\n",
      "Hello Munir, I'm Great full to invite you for a dinner.\n"
     ]
    }
   ],
   "source": [
    "guest_list=names.copy()\n",
    "for guest in guest_list:\n",
    "    print(f\"Hello {guest}, I'm Great full to invite you for a dinner.\")\n"
   ]
  },
  {
   "cell_type": "code",
   "execution_count": 5,
   "metadata": {},
   "outputs": [
    {
     "name": "stdout",
     "output_type": "stream",
     "text": [
      "Ali We will Get In touch with you.\n",
      "OK Umer, Let me Know Next Time.\n",
      "OK Umair, Let me Know Next Time.\n",
      "Asad We will Get In touch with you.\n",
      "Hassan We will Get In touch with you.\n",
      "OK Nadeem, Let me Know Next Time.\n",
      "OK Tayab, Let me Know Next Time.\n",
      "Munir We will Get In touch with you.\n",
      "['Umer', 'Umair', 'Nadeem', 'Tayab'] Are Not available for dinner.\n",
      "['Ali', 'Asad', 'Hassan', 'Munir'] Are available for dinner.\n"
     ]
    }
   ],
   "source": [
    "unable_to_attend:list=[]\n",
    "index=0\n",
    "while index < len(guest_list):\n",
    "    availability_confirmation : str=input((f'{guest_list[index]} Are you available for dinner? Yes/No: ')).strip().lower()\n",
    "    if availability_confirmation=='no':\n",
    "        print(f\"OK {guest_list[index]}, Let me Know Next Time.\")\n",
    "        unable_to_attend.append(guest_list[index])\n",
    "        guest_list.pop(index)\n",
    "    elif availability_confirmation==\"yes\":\n",
    "        print(f'{guest_list[index]} We will Get In touch with you.')\n",
    "        index+=1\n",
    "    else:\n",
    "     print(f'Please Select A valid Option!')\n",
    "\n",
    "print(f'{unable_to_attend} Are Not available for dinner.')\n",
    "\n",
    "print(f'{guest_list} Are available for dinner.')\n"
   ]
  },
  {
   "cell_type": "code",
   "execution_count": 6,
   "metadata": {},
   "outputs": [
    {
     "name": "stdout",
     "output_type": "stream",
     "text": [
      "Bilal, Happy To Inform you we are getting dinner together.\n",
      "Ali, Happy To Inform you we are getting dinner together.\n",
      "Waheed, Happy To Inform you we are getting dinner together.\n",
      "Asad, Happy To Inform you we are getting dinner together.\n",
      "Hassan, Happy To Inform you we are getting dinner together.\n",
      "Munir, Happy To Inform you we are getting dinner together.\n",
      "Waleed, Happy To Inform you we are getting dinner together.\n"
     ]
    }
   ],
   "source": [
    "guest_list.insert(0,'Bilal')\n",
    "middle_index=len(guest_list)//2\n",
    "guest_list.insert(middle_index,\"Waheed\")\n",
    "guest_list.append('Waleed')\n",
    "index=0\n",
    "for guest in guest_list:\n",
    "    print(f'{guest_list[index]}, Happy To Inform you we are getting dinner together.')\n",
    "    index+=1"
   ]
  },
  {
   "cell_type": "code",
   "execution_count": 7,
   "metadata": {},
   "outputs": [
    {
     "name": "stdout",
     "output_type": "stream",
     "text": [
      "Bilal, We are Sorry that we can’t invite you to dinner.\n",
      "Ali, We are Sorry that we can’t invite you to dinner.\n",
      "Waheed, We are Sorry that we can’t invite you to dinner.\n",
      "Asad, We are Sorry that we can’t invite you to dinner.\n",
      "Hassan, We are Sorry that we can’t invite you to dinner.\n",
      "Munir, We are Happy to invite you to dinner.\n",
      "Waleed, We are Happy to invite you to dinner.\n",
      "Guest List After Deleting All Remaining Guest: []\n"
     ]
    }
   ],
   "source": [
    "while len(guest_list)>2:\n",
    "    index=0\n",
    "    print(f'{guest_list[index]}, We are Sorry that we can’t invite you to dinner.')\n",
    "    guest_list.pop(index)\n",
    "\n",
    "\n",
    "for guest in guest_list:\n",
    "    print(f'{guest}, We are Happy to invite you to dinner.')\n",
    "\n",
    "if len(guest_list)!=0:\n",
    "    del guest_list[:]\n",
    "\n",
    "    print(f'Guest List After Deleting All Remaining Guest: {guest_list}')"
   ]
  },
  {
   "cell_type": "code",
   "execution_count": 8,
   "metadata": {},
   "outputs": [
    {
     "name": "stdout",
     "output_type": "stream",
     "text": [
      "Original List: ['Turkey', 'Paris', 'South Korean', 'Meksiko', 'Amsterdam']\n",
      "After Use sorted: ['Amsterdam', 'Meksiko', 'Paris', 'South Korean', 'Turkey']\n",
      "Original List: ['Turkey', 'Paris', 'South Korean', 'Meksiko', 'Amsterdam']\n",
      "After Using Reverse With Sorted: ['Turkey', 'South Korean', 'Paris', 'Meksiko', 'Amsterdam']\n",
      "Original List: ['Turkey', 'Paris', 'South Korean', 'Meksiko', 'Amsterdam']\n",
      "After Reverse The List: ['Amsterdam', 'Meksiko', 'South Korean', 'Paris', 'Turkey']\n",
      "After Reverse The List Again: ['Turkey', 'Paris', 'South Korean', 'Meksiko', 'Amsterdam']\n",
      "After Sort The List: ['Amsterdam', 'Meksiko', 'Paris', 'South Korean', 'Turkey']\n",
      "After use revers with sort List: ['Turkey', 'South Korean', 'Paris', 'Meksiko', 'Amsterdam']\n"
     ]
    }
   ],
   "source": [
    "world_places:list=['Turkey','Paris','South Korean','Meksiko','Amsterdam']\n",
    "print(f'Original List: {world_places}')\n",
    "print(f'After Use sorted: {sorted(world_places)}')\n",
    "print(f'Original List: {world_places}')\n",
    "print(f'After Using Reverse With Sorted: {sorted(world_places, reverse=True)}')\n",
    "print(f'Original List: {world_places}')\n",
    "world_places.reverse()\n",
    "print(f'After Reverse The List: {world_places}')\n",
    "world_places.reverse()\n",
    "print(f'After Reverse The List Again: {world_places}')\n",
    "world_places.sort()\n",
    "print(f'After Sort The List: {world_places}')\n",
    "world_places.sort(reverse=True)\n",
    "print(f'After use revers with sort List: {world_places}')\n"
   ]
  },
  {
   "cell_type": "code",
   "execution_count": 9,
   "metadata": {},
   "outputs": [
    {
     "name": "stdout",
     "output_type": "stream",
     "text": [
      "Countries List After Copy From World Places: ['Turkey', 'South Korean', 'Paris', 'Meksiko', 'Amsterdam']\n",
      "After Append['Turkey', 'South Korean', 'Paris', 'Meksiko', 'Amsterdam', 'Pakistan']\n",
      "Index: 5\n",
      "After Insert: ['London', 'Turkey', 'South Korean', 'Paris', 'Meksiko', 'Amsterdam', 'Pakistan']\n",
      "After Remove: ['London', 'Turkey', 'South Korean', 'Paris', 'Amsterdam', 'Pakistan']\n",
      "After pop: ['Turkey', 'South Korean', 'Paris', 'Amsterdam', 'Pakistan']\n",
      "After Sort: ['Amsterdam', 'Pakistan', 'Paris', 'South Korean', 'Turkey']\n",
      "After Reverse: ['Turkey', 'South Korean', 'Paris', 'Pakistan', 'Amsterdam']\n",
      "Count Of Paris In List: 1\n",
      "After Using Extend With Other List['Turkey', 'South Korean', 'Paris', 'Pakistan', 'Amsterdam', 'Bike', 'Car', 'Train', 'jet']\n",
      "After Clear The List[]\n"
     ]
    }
   ],
   "source": [
    "countries:list=world_places.copy() #copy\n",
    "print(f'Countries List After Copy From World Places: {countries}')\n",
    "countries.append(\"Pakistan\") #append\n",
    "print(f'After Append{countries}')\n",
    "print(f'Index: {countries.index(\"Pakistan\")}') #index\n",
    "countries.insert(0,\"London\") #insert\n",
    "print(f'After Insert: {countries}')\n",
    "countries.remove(\"Meksiko\") #remove\n",
    "print(f'After Remove: {countries}')\n",
    "countries.pop(0) #pop\n",
    "print(f'After pop: {countries}')\n",
    "countries.sort() #SORT\n",
    "print(f'After Sort: {countries}')\n",
    "countries.reverse() #Reverse\n",
    "print(f'After Reverse: {countries}')\n",
    "print(f'Count Of Paris In List: {countries.count(\"Paris\")}') #count\n",
    "countries.extend(transportation_mode) #Extend\n",
    "print(f'After Using Extend With Other List{countries}')\n",
    "countries.clear() #clear\n",
    "print(f'After Clear The List{countries}')\n",
    "\n"
   ]
  },
  {
   "cell_type": "code",
   "execution_count": 4,
   "metadata": {},
   "outputs": [
    {
     "ename": "IndexError",
     "evalue": "list index out of range",
     "output_type": "error",
     "traceback": [
      "\u001b[1;31m---------------------------------------------------------------------------\u001b[0m",
      "\u001b[1;31mIndexError\u001b[0m                                Traceback (most recent call last)",
      "Cell \u001b[1;32mIn[4], line 1\u001b[0m\n\u001b[1;32m----> 1\u001b[0m \u001b[38;5;28mprint\u001b[39m(\u001b[43mnames\u001b[49m\u001b[43m[\u001b[49m\u001b[38;5;241;43m90\u001b[39;49m\u001b[43m]\u001b[49m)\n",
      "\u001b[1;31mIndexError\u001b[0m: list index out of range"
     ]
    }
   ],
   "source": [
    "print(names[90])"
   ]
  },
  {
   "cell_type": "code",
   "execution_count": null,
   "metadata": {},
   "outputs": [],
   "source": []
  }
 ],
 "metadata": {
  "kernelspec": {
   "display_name": "Python 3",
   "language": "python",
   "name": "python3"
  },
  "language_info": {
   "codemirror_mode": {
    "name": "ipython",
    "version": 3
   },
   "file_extension": ".py",
   "mimetype": "text/x-python",
   "name": "python",
   "nbconvert_exporter": "python",
   "pygments_lexer": "ipython3",
   "version": "3.12.4"
  }
 },
 "nbformat": 4,
 "nbformat_minor": 2
}
